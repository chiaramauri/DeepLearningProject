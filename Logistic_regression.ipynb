{
 "cells": [
  {
   "cell_type": "code",
   "execution_count": 1,
   "metadata": {
    "collapsed": true
   },
   "outputs": [],
   "source": [
    "import pickle\n",
    "import numpy as np\n",
    "from sklearn.feature_extraction.text import CountVectorizer\n",
    "from sklearn.metrics import confusion_matrix\n",
    "from sklearn import linear_model\n",
    "\n",
    "\n",
    "#import training and test set, for the balanced and unbalanced dataset\n",
    "\n",
    "with open('train_sentences_id_balanced.pickle','rb') as file:\n",
    "    training_sentences = pickle.load(file)\n",
    "    \n",
    "with open('train_labels_balanced.pickle','rb') as file:\n",
    "    training_labels = pickle.load(file)\n",
    "    \n",
    "    \n",
    "with open('test_sentences_id_balanced.pickle','rb') as file:\n",
    "    test_sentences = pickle.load(file)\n",
    "    \n",
    "with open('test_labels_balanced.pickle','rb') as file:\n",
    "    test_labels = pickle.load(file)\n",
    "    \n",
    "    \n",
    "with open('train_sentences_id_unbalanced.pickle','rb') as file:\n",
    "    training_sentences_unbalanced = pickle.load(file)\n",
    "    \n",
    "with open('train_labels_unbalanced.pickle','rb') as file:\n",
    "    training_labels_unbalanced = pickle.load(file)\n",
    "    \n",
    "    \n",
    "    \n",
    "with open('test_sentences_id_unbalanced.pickle','rb') as file:\n",
    "    test_sentences_unbalanced = pickle.load(file)\n",
    "    \n",
    "with open('test_labels_unbalanced.pickle','rb') as file:\n",
    "    test_labels_unbalanced = pickle.load(file)\n",
    "    \n",
    "\n",
    "\n"
   ]
  },
  {
   "cell_type": "code",
   "execution_count": 2,
   "metadata": {
    "collapsed": true
   },
   "outputs": [],
   "source": [
    "#input processing\n",
    "\n",
    "num_words=10391\n",
    "\n",
    "fitting_exemples = np.zeros((len(training_sentences), num_words))\n",
    "for (i,sent) in enumerate(training_sentences):\n",
    "        for (j,word) in enumerate(sent):\n",
    "            fitting_exemples[i,word-1] = 1\n",
    "            \n",
    "test_exemples = np.zeros((len(test_sentences), num_words))\n",
    "for (i,sent) in enumerate(test_sentences):\n",
    "        for (j,word) in enumerate(sent):\n",
    "            test_exemples[i,word-1] = 1\n",
    "\n",
    "\n",
    "fitting_exemples_unbalanced = np.zeros((len(training_sentences_unbalanced), num_words))\n",
    "\n",
    "for (i,sent) in enumerate(training_sentences_unbalanced):\n",
    "    for (j,word) in enumerate(sent):\n",
    "        fitting_exemples_unbalanced[i,word-1] = 1\n",
    "            \n",
    "test_exemples_unbalanced = np.zeros((len(test_sentences_unbalanced), num_words))\n",
    "for (i,sent) in enumerate(test_sentences_unbalanced):\n",
    "    for (j,word) in enumerate(sent):\n",
    "        test_exemples_unbalanced[i,word-1] = 1\n"
   ]
  },
  {
   "cell_type": "code",
   "execution_count": 3,
   "metadata": {},
   "outputs": [
    {
     "name": "stdout",
     "output_type": "stream",
     "text": [
      "[[1494   76]\n",
      " [ 930  300]]\n",
      "Accuracy: 0.6407\n",
      "Classification error: 0.3593\n",
      "Sensitivity: 0.2439\n",
      "Specificity: 0.9516\n",
      "False positive rate: 0.0484\n",
      "Precision: 0.7979\n"
     ]
    }
   ],
   "source": [
    "#logistic regression on the balanced dataset\n",
    "\n",
    "logistic = linear_model.LogisticRegression()\n",
    "logistic.fit(X=fitting_exemples,y=training_labels)\n",
    "ypred = logistic.predict(test_exemples) \n",
    "\n",
    "# CM on traning data\n",
    "c_m=confusion_matrix(test_labels, ypred)\n",
    "print(c_m)\n",
    "\n",
    "TN, FP, FN, TP = c_m.ravel()\n",
    "accuracy=(TN+TP)/float(TN+FP+FN+TP)\n",
    "classification_error = (FP + FN) / float(TP + TN + FP + FN)\n",
    "sensitivity = TP / float(FN + TP) #proporz di pos che riesco a beccare\n",
    "specificity = TN / (TN + FP)\n",
    "false_positive_rate = FP / float(TN + FP)\n",
    "precision = TP / float(TP + FP)\n",
    "print(\"Accuracy: {:6.4f}\\nClassification error: {:6.4f}\\nSensitivity: {:6.4f}\\nSpecificity: {:6.4f}\\nFalse positive rate: {:6.4f}\\nPrecision: {:6.4f}\".format (\n",
    "    accuracy,classification_error,sensitivity,specificity, false_positive_rate, precision))\n",
    "\n"
   ]
  },
  {
   "cell_type": "code",
   "execution_count": 4,
   "metadata": {},
   "outputs": [
    {
     "name": "stdout",
     "output_type": "stream",
     "text": [
      "[[1563    7]\n",
      " [ 118    5]]\n",
      "Accuracy: 0.9262\n",
      "Classification error: 0.0738\n",
      "Sensitivity: 0.0407\n",
      "Specificity: 0.9955\n",
      "False positive rate: 0.0045\n",
      "Precision: 0.4167\n"
     ]
    }
   ],
   "source": [
    "#logistic regression on the unbalanced dataset\n",
    "\n",
    "logistic.fit(X=fitting_exemples_unbalanced,y=training_labels_unbalanced)\n",
    "ypred = logistic.predict(test_exemples_unbalanced) \n",
    "\n",
    "# CM on traning data\n",
    "c_m=confusion_matrix(test_labels_unbalanced, ypred)\n",
    "print(c_m)\n",
    "\n",
    "TN, FP, FN, TP = c_m.ravel()\n",
    "accuracy=(TN+TP)/float(TN+FP+FN+TP)\n",
    "classification_error = (FP + FN) / float(TP + TN + FP + FN)\n",
    "sensitivity = TP / float(FN + TP) #proporz di pos che riesco a beccare\n",
    "specificity = TN / (TN + FP)\n",
    "false_positive_rate = FP / float(TN + FP)\n",
    "precision = TP / float(TP + FP)\n",
    "print(\"Accuracy: {:6.4f}\\nClassification error: {:6.4f}\\nSensitivity: {:6.4f}\\nSpecificity: {:6.4f}\\nFalse positive rate: {:6.4f}\\nPrecision: {:6.4f}\".format (\n",
    "    accuracy,classification_error,sensitivity,specificity, false_positive_rate, precision))\n",
    "\n"
   ]
  }
 ],
 "metadata": {
  "kernelspec": {
   "display_name": "Python 3",
   "language": "python",
   "name": "python3"
  },
  "language_info": {
   "codemirror_mode": {
    "name": "ipython",
    "version": 3
   },
   "file_extension": ".py",
   "mimetype": "text/x-python",
   "name": "python",
   "nbconvert_exporter": "python",
   "pygments_lexer": "ipython3",
   "version": "3.6.2"
  }
 },
 "nbformat": 4,
 "nbformat_minor": 2
}
